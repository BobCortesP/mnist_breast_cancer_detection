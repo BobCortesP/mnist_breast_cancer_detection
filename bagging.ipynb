{
 "cells": [
  {
   "cell_type": "code",
   "execution_count": 4,
   "id": "d0e63a1a",
   "metadata": {},
   "outputs": [],
   "source": [
    "import medmnist\n",
    "import numpy as np\n",
    "import tensorflow as tf\n",
    "import matplotlib.pyplot as plt\n",
    "import numpy as np\n",
    "import pandas as pd\n",
    "import random\n",
    "from tensorflow.keras.callbacks import TensorBoard\n",
    "from tensorflow.keras import layers, models\n",
    "\n",
    "dataTrain = medmnist.BreastMNIST(split=\"train\", download=True, size=64)\n",
    "dataVal   = medmnist.BreastMNIST(split=\"val\",   download=True, size=64)\n",
    "dataTest  = medmnist.BreastMNIST(split=\"test\",  download=True, size=64)\n",
    "\n",
    "x_train, y_train = np.array([i[0] for i in dataTrain]), np.array([i[1][0] for i in dataTrain])\n",
    "x_val, y_val =  np.array([i[0] for i in dataVal]), np.array([i[1][0] for i in dataVal])\n",
    "x_test, y_test =  np.array([i[0] for i in dataTest]), np.array([i[1][0] for i in dataTest])\n",
    "\n",
    "x_train = x_train / 255\n",
    "x_val = x_val / 255\n",
    "x_test = x_test / 255\n",
    "\n",
    "x_train = np.expand_dims(x_train, axis=-1)\n",
    "x_val = np.expand_dims(x_val, axis=-1)\n",
    "x_test = np.expand_dims(x_test, axis=-1)"
   ]
  },
  {
   "cell_type": "code",
   "execution_count": 1,
   "id": "aa68c2cd",
   "metadata": {},
   "outputs": [],
   "source": [
    "#Función usada en el otro ipynb\n",
    "def modeloCustomizable(\n",
    "    input_shape=(224, 224, 1), \n",
    "    num_filtros=[10, 20], \n",
    "    tamano_kernel=(5, 5), \n",
    "    capas_densas=[50], \n",
    "    dropout_rate=[0.5, 0],\n",
    "    dropout_rate_final=0.5,\n",
    "):\n",
    "    if len(num_filtros) != len(dropout_rate):\n",
    "        raise ValueError(\"\"\"\n",
    "            El largo de num_filtros y el de dropout_rate representan la cantidad de \n",
    "            capas convolucionales, por lo que estas listas deben tener el mismo largo.\n",
    "        \"\"\")\n",
    "    capas_conv = [layers.Input(shape=input_shape)]\n",
    "    for i in range(len(num_filtros)):\n",
    "        capas_conv.append(layers.Conv2D(num_filtros[i], tamano_kernel, activation='relu'))\n",
    "        capas_conv.append(layers.MaxPooling2D(pool_size=(2, 2)))\n",
    "        if dropout_rate[i] > 0:\n",
    "            capas_conv.append(layers.Dropout(dropout_rate[i]))\n",
    "\n",
    "    capas_dens = [layers.Flatten()]\n",
    "    for i in capas_densas:\n",
    "        capas_dens.append(layers.Dense(i, activation='relu'))\n",
    "    if dropout_rate_final > 0:\n",
    "        capas_dens.append(layers.Dropout(dropout_rate_final))\n",
    "    capas_dens.append(layers.Dense(1, activation='sigmoid'))\n",
    "\n",
    "    capas_total = capas_conv + capas_dens\n",
    "    model = models.Sequential(capas_total)\n",
    "    \n",
    "    model.compile(\n",
    "        optimizer='adam',\n",
    "        loss='binary_crossentropy',\n",
    "        metrics=['accuracy']\n",
    "    )\n",
    "    \n",
    "    return model"
   ]
  },
  {
   "cell_type": "code",
   "execution_count": 11,
   "id": "810a5c38",
   "metadata": {},
   "outputs": [
    {
     "name": "stdout",
     "output_type": "stream",
     "text": [
      "Entrenando modelo 1/5\n",
      "Último val_accuracy del modelo: 0.7821\n",
      "Entrenando modelo 2/5\n",
      "Último val_accuracy del modelo: 0.8462\n",
      "Entrenando modelo 3/5\n",
      "Último val_accuracy del modelo: 0.8590\n",
      "Entrenando modelo 4/5\n",
      "Último val_accuracy del modelo: 0.8718\n",
      "Entrenando modelo 5/5\n",
      "Último val_accuracy del modelo: 0.8333\n"
     ]
    }
   ],
   "source": [
    "from tensorflow.keras.callbacks import TensorBoard\n",
    "\n",
    "def bootstrap_sample(X, y):\n",
    "    idx = np.random.choice(len(X), size=len(X), replace=True)\n",
    "    return X[idx], y[idx]\n",
    "\n",
    "modelos = []\n",
    "n_modelos = 5  # o la cantidad que quieras\n",
    "\n",
    "for i in range(n_modelos):\n",
    "    print(f\"Entrenando modelo {i+1}/{n_modelos}\")\n",
    "    model = modeloCustomizable(\n",
    "        input_shape=(64, 64, 1),\n",
    "        num_filtros=[30, 30],\n",
    "        tamano_kernel=(9, 9),\n",
    "        capas_densas=[100]*3,\n",
    "        dropout_rate=[0, 0],\n",
    "        dropout_rate_final=0\n",
    "    )\n",
    "    X_boot, y_boot = bootstrap_sample(x_train, y_train)\n",
    "    history = model.fit(\n",
    "        X_boot, y_boot,\n",
    "        validation_data=(x_val, y_val),\n",
    "        epochs=100,\n",
    "        batch_size=32,\n",
    "        callbacks=[TensorBoard(log_dir=f'logs/bagging_{i}')],\n",
    "        verbose=0\n",
    "    )\n",
    "    print(f\"Último val_accuracy del modelo: {history.history['val_accuracy'][-1]:.4f}\")\n",
    "    modelos.append(model)"
   ]
  },
  {
   "cell_type": "code",
   "execution_count": 12,
   "id": "abc9c8ec",
   "metadata": {},
   "outputs": [
    {
     "name": "stdout",
     "output_type": "stream",
     "text": [
      "\u001b[1m5/5\u001b[0m \u001b[32m━━━━━━━━━━━━━━━━━━━━\u001b[0m\u001b[37m\u001b[0m \u001b[1m0s\u001b[0m 40ms/step\n",
      "\u001b[1m5/5\u001b[0m \u001b[32m━━━━━━━━━━━━━━━━━━━━\u001b[0m\u001b[37m\u001b[0m \u001b[1m0s\u001b[0m 37ms/step\n",
      "\u001b[1m5/5\u001b[0m \u001b[32m━━━━━━━━━━━━━━━━━━━━\u001b[0m\u001b[37m\u001b[0m \u001b[1m0s\u001b[0m 36ms/step\n",
      "\u001b[1m5/5\u001b[0m \u001b[32m━━━━━━━━━━━━━━━━━━━━\u001b[0m\u001b[37m\u001b[0m \u001b[1m0s\u001b[0m 35ms/step\n",
      "\u001b[1m5/5\u001b[0m \u001b[32m━━━━━━━━━━━━━━━━━━━━\u001b[0m\u001b[37m\u001b[0m \u001b[1m0s\u001b[0m 36ms/step\n"
     ]
    }
   ],
   "source": [
    "preds = np.zeros((len(x_test), n_modelos))\n",
    "for i, model in enumerate(modelos):\n",
    "    preds[:, i] = model.predict(x_test).ravel()\n",
    "\n",
    "# Promedio de predicciones\n",
    "y_pred_bagging = (preds.mean(axis=1) > 0.5).astype(int)"
   ]
  },
  {
   "cell_type": "code",
   "execution_count": 13,
   "id": "9d862e31",
   "metadata": {},
   "outputs": [
    {
     "data": {
      "text/plain": [
       "np.float64(0.8589743589743589)"
      ]
     },
     "execution_count": 13,
     "metadata": {},
     "output_type": "execute_result"
    }
   ],
   "source": [
    "sum(y_test == y_pred_bagging)/len(y_test == y_pred_bagging)"
   ]
  }
 ],
 "metadata": {
  "kernelspec": {
   "display_name": "Python 3",
   "language": "python",
   "name": "python3"
  },
  "language_info": {
   "codemirror_mode": {
    "name": "ipython",
    "version": 3
   },
   "file_extension": ".py",
   "mimetype": "text/x-python",
   "name": "python",
   "nbconvert_exporter": "python",
   "pygments_lexer": "ipython3",
   "version": "3.12.5"
  }
 },
 "nbformat": 4,
 "nbformat_minor": 5
}

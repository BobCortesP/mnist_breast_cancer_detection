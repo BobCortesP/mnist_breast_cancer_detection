{
 "cells": [
  {
   "cell_type": "code",
   "execution_count": 7,
   "id": "cb925d6d",
   "metadata": {},
   "outputs": [],
   "source": [
    "import medmnist\n",
    "import numpy as np\n",
    "import tensorflow as tf\n",
    "import matplotlib.pyplot as plt\n",
    "import numpy as np\n",
    "import pandas as pd\n",
    "import random\n",
    "from tensorflow.keras.callbacks import TensorBoard\n",
    "from tensorflow.keras import layers, models\n",
    "import torch\n",
    "from torchvision import transforms\n"
   ]
  },
  {
   "cell_type": "code",
   "execution_count": 5,
   "id": "6ec40943",
   "metadata": {},
   "outputs": [],
   "source": [
    "dataTest = medmnist.BreastMNIST(split=\"test\", download=True, size=64)\n",
    "x_test = np.array([i[0] for i in dataTest])\n",
    "y_test = np.array([i[1][0] for i in dataTest])"
   ]
  },
  {
   "cell_type": "code",
   "execution_count": 8,
   "id": "c6303ed0",
   "metadata": {},
   "outputs": [],
   "source": [
    "# Para Keras (modelo hiperafinado)\n",
    "x_test_keras = x_test / 255.0\n",
    "x_test_keras = np.expand_dims(x_test_keras, axis=-1)  # (N, 64, 64, 1)\n",
    "\n",
    "# Para PyTorch (Transfer Learning)\n",
    "\n",
    "\n",
    "transform_torch = transforms.Compose([\n",
    "    transforms.ToPILImage(),\n",
    "    transforms.Resize((224, 224)),\n",
    "    transforms.Grayscale(num_output_channels=3),\n",
    "    transforms.ToTensor(),\n",
    "])\n",
    "\n",
    "x_test_torch = torch.stack([transform_torch(img.astype(np.uint8)) for img in x_test])  # (N, 3, 224, 224)"
   ]
  },
  {
   "cell_type": "code",
   "execution_count": null,
   "id": "435aa485",
   "metadata": {},
   "outputs": [],
   "source": [
    "#Función usada en el otro ipynb\n",
    "def modeloCustomizable(\n",
    "    input_shape=(224, 224, 1), \n",
    "    num_filtros=[10, 20], \n",
    "    tamano_kernel=(5, 5), \n",
    "    capas_densas=[50], \n",
    "    dropout_rate=[0.5, 0],\n",
    "    dropout_rate_final=0.5,\n",
    "):\n",
    "    if len(num_filtros) != len(dropout_rate):\n",
    "        raise ValueError(\"\"\"\n",
    "            El largo de num_filtros y el de dropout_rate representan la cantidad de \n",
    "            capas convolucionales, por lo que estas listas deben tener el mismo largo.\n",
    "        \"\"\")\n",
    "    capas_conv = [layers.Input(shape=input_shape)]\n",
    "    for i in range(len(num_filtros)):\n",
    "        capas_conv.append(layers.Conv2D(num_filtros[i], tamano_kernel, activation='relu'))\n",
    "        capas_conv.append(layers.MaxPooling2D(pool_size=(2, 2)))\n",
    "        if dropout_rate[i] > 0:\n",
    "            capas_conv.append(layers.Dropout(dropout_rate[i]))\n",
    "\n",
    "    capas_dens = [layers.Flatten()]\n",
    "    for i in capas_densas:\n",
    "        capas_dens.append(layers.Dense(i, activation='relu'))\n",
    "    if dropout_rate_final > 0:\n",
    "        capas_dens.append(layers.Dropout(dropout_rate_final))\n",
    "    capas_dens.append(layers.Dense(1, activation='sigmoid'))\n",
    "\n",
    "    capas_total = capas_conv + capas_dens\n",
    "    model = models.Sequential(capas_total)\n",
    "    \n",
    "    model.compile(\n",
    "        optimizer='adam',\n",
    "        loss='binary_crossentropy',\n",
    "        metrics=['accuracy']\n",
    "    )\n",
    "    \n",
    "    return model\n",
    "\n",
    "mejor_modelo_base = modeloCustomizable(\n",
    "    input_shape=(64, 64, 1),\n",
    "    num_filtros=[30, 30],\n",
    "    tamano_kernel=(9, 9),\n",
    "    capas_densas=[100]*3,\n",
    "    dropout_rate=[0, 0],\n",
    "    dropout_rate_final=0\n",
    ")"
   ]
  },
  {
   "cell_type": "code",
   "execution_count": 10,
   "id": "2471c78e",
   "metadata": {},
   "outputs": [
    {
     "name": "stdout",
     "output_type": "stream",
     "text": [
      "\u001b[1m5/5\u001b[0m \u001b[32m━━━━━━━━━━━━━━━━━━━━\u001b[0m\u001b[37m\u001b[0m \u001b[1m0s\u001b[0m 40ms/step\n"
     ]
    },
    {
     "ename": "NameError",
     "evalue": "name 'resnet_model' is not defined",
     "output_type": "error",
     "traceback": [
      "\u001b[1;31m---------------------------------------------------------------------------\u001b[0m",
      "\u001b[1;31mNameError\u001b[0m                                 Traceback (most recent call last)",
      "Cell \u001b[1;32mIn[10], line 17\u001b[0m\n\u001b[0;32m     14\u001b[0m     \u001b[38;5;28;01mreturn\u001b[39;00m np\u001b[38;5;241m.\u001b[39marray(preds)\n\u001b[0;32m     16\u001b[0m \u001b[38;5;66;03m# Suponiendo que tienes los modelos TL cargados como resnet_model, densenet_model, vgg_model\u001b[39;00m\n\u001b[1;32m---> 17\u001b[0m pred_resnet \u001b[38;5;241m=\u001b[39m get_pytorch_preds(\u001b[43mresnet_model\u001b[49m, x_test_torch)\n\u001b[0;32m     18\u001b[0m pred_densenet \u001b[38;5;241m=\u001b[39m get_pytorch_preds(densenet_model, x_test_torch)\n\u001b[0;32m     19\u001b[0m pred_vgg \u001b[38;5;241m=\u001b[39m get_pytorch_preds(vgg_model, x_test_torch)\n",
      "\u001b[1;31mNameError\u001b[0m: name 'resnet_model' is not defined"
     ]
    }
   ],
   "source": [
    "# Keras\n",
    "# Suponiendo que tienes el modelo cargado como mejor_modelo_base\n",
    "pred_keras = mejor_modelo_base.predict(x_test_keras).ravel()\n",
    "\n",
    "# PyTorch\n",
    "def get_pytorch_preds(model, x_tensor):\n",
    "    model.eval()\n",
    "    preds = []\n",
    "    with torch.no_grad():\n",
    "        for img in x_tensor:\n",
    "            img = img.unsqueeze(0)  # (1, 3, 224, 224)\n",
    "            output = model(img)\n",
    "            preds.append(output.cpu().numpy().ravel()[0])\n",
    "    return np.array(preds)\n",
    "\n",
    "# Suponiendo que tienes los modelos TL cargados como resnet_model, densenet_model, vgg_model\n",
    "pred_resnet = get_pytorch_preds(resnet_model, x_test_torch)\n",
    "pred_densenet = get_pytorch_preds(densenet_model, x_test_torch)\n",
    "pred_vgg = get_pytorch_preds(vgg_model, x_test_torch)"
   ]
  }
 ],
 "metadata": {
  "kernelspec": {
   "display_name": "Python 3",
   "language": "python",
   "name": "python3"
  },
  "language_info": {
   "codemirror_mode": {
    "name": "ipython",
    "version": 3
   },
   "file_extension": ".py",
   "mimetype": "text/x-python",
   "name": "python",
   "nbconvert_exporter": "python",
   "pygments_lexer": "ipython3",
   "version": "3.12.5"
  }
 },
 "nbformat": 4,
 "nbformat_minor": 5
}

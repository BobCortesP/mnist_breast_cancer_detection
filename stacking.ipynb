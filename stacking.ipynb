{
 "cells": [
  {
   "cell_type": "code",
   "execution_count": null,
   "id": "cb925d6d",
   "metadata": {},
   "outputs": [],
   "source": [
    "import medmnist\n",
    "import numpy as np\n",
    "import tensorflow as tf\n",
    "import matplotlib.pyplot as plt\n",
    "import numpy as np\n",
    "import pandas as pd\n",
    "import random\n",
    "from tensorflow.keras.callbacks import TensorBoard\n",
    "from tensorflow.keras import layers, models\n",
    "import torch\n",
    "from torchvision import transforms\n",
    "from torchvision.models import resnet18, densenet121, vgg16, ResNet18_Weights, DenseNet121_Weights, VGG16_Weights\n"
   ]
  },
  {
   "cell_type": "code",
   "execution_count": null,
   "id": "6ec40943",
   "metadata": {},
   "outputs": [],
   "source": [
    "dataVal = medmnist.BreastMNIST(split=\"val\", download=True, size=64)\n",
    "x_val = np.array([i[0] for i in dataVal])\n",
    "y_val = np.array([i[1][0] for i in dataVal])\n",
    "\n",
    "dataTest = medmnist.BreastMNIST(split=\"test\", download=True, size=64)\n",
    "x_test = np.array([i[0] for i in dataTest])\n",
    "y_test = np.array([i[1][0] for i in dataTest])"
   ]
  },
  {
   "cell_type": "code",
   "execution_count": null,
   "id": "c6303ed0",
   "metadata": {},
   "outputs": [],
   "source": [
    "# Para Keras\n",
    "x_val_keras = x_val / 255.0\n",
    "x_val_keras = np.expand_dims(x_val_keras, axis=-1)\n",
    "x_test_keras = x_test / 255.0\n",
    "x_test_keras = np.expand_dims(x_test_keras, axis=-1)\n",
    "\n",
    "# Para PyTorch\n",
    "transform_torch = transforms.Compose([\n",
    "    transforms.ToPILImage(),\n",
    "    transforms.Resize((224, 224)),\n",
    "    transforms.Grayscale(num_output_channels=3),\n",
    "    transforms.ToTensor(),\n",
    "])\n",
    "x_val_torch = torch.stack([transform_torch(img.astype(np.uint8)) for img in x_val])\n",
    "x_test_torch = torch.stack([transform_torch(img.astype(np.uint8)) for img in x_test])"
   ]
  },
  {
   "cell_type": "code",
   "execution_count": null,
   "id": "435aa485",
   "metadata": {},
   "outputs": [],
   "source": [
    "from tensorflow.keras.models import load_model\n",
    "\n",
    "mejor_modelo_base = load_model('mejor_modelo_base.keras')"
   ]
  },
  {
   "cell_type": "code",
   "execution_count": null,
   "id": "f3034ae0",
   "metadata": {},
   "outputs": [],
   "source": [
    "\n",
    "# Función para cargar modelos con la cabeza modificada\n",
    "def load_tl_model(name, path):\n",
    "    if name == 'resnet':\n",
    "        model = resnet18(weights=ResNet18_Weights.DEFAULT)\n",
    "        in_features = model.fc.in_features\n",
    "        model.fc = torch.nn.Sequential(torch.nn.Linear(in_features, 1), torch.nn.Sigmoid())\n",
    "    elif name == 'densenet':\n",
    "        model = densenet121(weights=DenseNet121_Weights.DEFAULT)\n",
    "        in_features = model.classifier.in_features\n",
    "        model.classifier = torch.nn.Sequential(torch.nn.Linear(in_features, 1), torch.nn.Sigmoid())\n",
    "    elif name == 'vgg':\n",
    "        model = vgg16(weights=VGG16_Weights.DEFAULT)\n",
    "        in_features = model.classifier[6].in_features\n",
    "        model.classifier[6] = torch.nn.Sequential(torch.nn.Linear(in_features, 1), torch.nn.Sigmoid())\n",
    "    model.load_state_dict(torch.load(path, map_location='cpu'))\n",
    "    model.eval()\n",
    "    return model\n",
    "\n",
    "resnet_model = load_tl_model('resnet', 'resnet_model.pth')\n",
    "densenet_model = load_tl_model('densenet', 'densenet_model.pth')\n",
    "vgg_model = load_tl_model('vgg', 'vgg_model.pth')"
   ]
  },
  {
   "cell_type": "code",
   "execution_count": null,
   "id": "690102c1",
   "metadata": {},
   "outputs": [],
   "source": [
    "# Cargar datos de validación y test\n",
    "dataVal = medmnist.BreastMNIST(split=\"val\", download=True, size=64)\n",
    "x_val = np.array([i[0] for i in dataVal])\n",
    "y_val = np.array([i[1][0] for i in dataVal])\n",
    "\n",
    "dataTest = medmnist.BreastMNIST(split=\"test\", download=True, size=64)\n",
    "x_test = np.array([i[0] for i in dataTest])\n",
    "y_test = np.array([i[1][0] for i in dataTest])"
   ]
  },
  {
   "cell_type": "code",
   "execution_count": null,
   "id": "9238b4cb",
   "metadata": {},
   "outputs": [],
   "source": [
    "from sklearn.linear_model import LogisticRegression\n",
    "from sklearn.metrics import accuracy_score, roc_auc_score, f1_score, precision_score, recall_score\n",
    "\n",
    "# 1. Predicciones de modelos base sobre val y test\n",
    "def get_preds_keras(model, x):\n",
    "    # Keras espera (N, 64, 64, 1)\n",
    "    return model.predict(x, verbose=0).ravel()\n",
    "\n",
    "def get_preds_torch(model, x):\n",
    "    with torch.no_grad():\n",
    "        outputs = model(x).cpu().numpy().ravel()\n",
    "    return outputs\n",
    "\n",
    "# Predicciones en val\n",
    "preds_val_keras = get_preds_keras(mejor_modelo_base, x_val_keras)\n",
    "preds_val_resnet = get_preds_torch(resnet_model, x_val_torch)\n",
    "preds_val_densenet = get_preds_torch(densenet_model, x_val_torch)\n",
    "preds_val_vgg = get_preds_torch(vgg_model, x_val_torch)\n",
    "\n",
    "# Predicciones en test\n",
    "preds_test_keras = get_preds_keras(mejor_modelo_base, x_test_keras)\n",
    "preds_test_resnet = get_preds_torch(resnet_model, x_test_torch)\n",
    "preds_test_densenet = get_preds_torch(densenet_model, x_test_torch)\n",
    "preds_test_vgg = get_preds_torch(vgg_model, x_test_torch)\n",
    "\n",
    "# 2. Stack de features para meta-modelo\n",
    "X_val_stack = np.stack([preds_val_keras, preds_val_resnet, preds_val_densenet, preds_val_vgg], axis=1)\n",
    "X_test_stack = np.stack([preds_test_keras, preds_test_resnet, preds_test_densenet, preds_test_vgg], axis=1)\n",
    "\n",
    "# 3. Entrenar meta-modelo (solo con val)\n",
    "meta_model = LogisticRegression()\n",
    "meta_model.fit(X_val_stack, y_val)\n",
    "\n",
    "# 4. Evaluar en test\n",
    "y_pred_test = meta_model.predict(X_test_stack)\n",
    "y_pred_test_prob = meta_model.predict_proba(X_test_stack)[:,1]\n",
    "\n",
    "print(\"Stacking Logistic Regression Results:\")\n",
    "print(\"Accuracy:\", accuracy_score(y_test, y_pred_test))\n",
    "print(\"F1 Score:\", f1_score(y_test, y_pred_test))\n",
    "print(\"Precision:\", precision_score(y_test, y_pred_test))\n",
    "print(\"Recall:\", recall_score(y_test, y_pred_test))\n",
    "print(\"ROC AUC:\", roc_auc_score(y_test, y_pred_test_prob))"
   ]
  }
 ],
 "metadata": {
  "kernelspec": {
   "display_name": "Python 3",
   "language": "python",
   "name": "python3"
  },
  "language_info": {
   "codemirror_mode": {
    "name": "ipython",
    "version": 3
   },
   "file_extension": ".py",
   "mimetype": "text/x-python",
   "name": "python",
   "nbconvert_exporter": "python",
   "pygments_lexer": "ipython3",
   "version": "3.12.5"
  }
 },
 "nbformat": 4,
 "nbformat_minor": 5
}

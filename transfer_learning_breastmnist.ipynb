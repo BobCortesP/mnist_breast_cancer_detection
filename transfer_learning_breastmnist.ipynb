{
  "cells": [
    {
      "cell_type": "markdown",
      "id": "a5ccd310",
      "metadata": {
        "id": "a5ccd310"
      },
      "source": [
        "\n",
        "# Transfer Learning con ResNet18, DenseNet121 y VGG16"
      ]
    },
    {
      "cell_type": "code",
      "execution_count": 1,
      "id": "UzByC6jz5Qo2",
      "metadata": {
        "colab": {
          "base_uri": "https://localhost:8080/"
        },
        "id": "UzByC6jz5Qo2",
        "outputId": "7f764cdc-0732-43f6-b82b-214767f8fa42"
      },
      "outputs": [],
      "source": [
        "# %pip install medmnist"
      ]
    },
    {
      "cell_type": "code",
      "execution_count": 8,
      "id": "c32ca470",
      "metadata": {
        "id": "c32ca470"
      },
      "outputs": [],
      "source": [
        "\n",
        "import torch\n",
        "import torch.nn as nn\n",
        "from torch.utils.data import DataLoader\n",
        "import torchvision.models as models\n",
        "from torchvision.models import ResNet18_Weights, DenseNet121_Weights, VGG16_Weights\n",
        "import torchvision.transforms as transforms\n",
        "import medmnist\n",
        "from medmnist import INFO\n",
        "\n",
        "from sklearn.metrics import accuracy_score, f1_score, precision_score, recall_score, roc_auc_score, confusion_matrix, roc_curve, precision_recall_curve, auc\n",
        "import matplotlib.pyplot as plt\n",
        "import seaborn as sns\n",
        "import numpy as np\n",
        "\n",
        "# Cargar dataset\n",
        "data_flag = 'breastmnist'\n",
        "info = INFO[data_flag]\n",
        "DataClass = getattr(medmnist, info['python_class'])\n",
        "\n",
        "transform = transforms.Compose([\n",
        "    transforms.Resize((224, 224)),\n",
        "    transforms.Grayscale(num_output_channels=3),\n",
        "    transforms.ToTensor(),\n",
        "])\n",
        "\n",
        "train_dataset = DataClass(split='train', transform=transform, download=True)\n",
        "val_dataset = DataClass(split='val', transform=transform, download=True)\n",
        "test_dataset = DataClass(split='test', transform=transform, download=True)\n",
        "\n",
        "train_loader = DataLoader(train_dataset, batch_size=32, shuffle=True)\n",
        "val_loader = DataLoader(val_dataset, batch_size=32, shuffle=False)\n",
        "test_loader = DataLoader(test_dataset, batch_size=32, shuffle=False)\n"
      ]
    },
    {
      "cell_type": "code",
      "execution_count": 9,
      "id": "8db42ded",
      "metadata": {
        "id": "8db42ded"
      },
      "outputs": [],
      "source": [
        "def get_model(name, num_classes=1):\n",
        "    if name == 'resnet':\n",
        "        from torchvision.models import resnet18, ResNet18_Weights\n",
        "        model = resnet18(weights=ResNet18_Weights.DEFAULT)\n",
        "        in_features = model.fc.in_features\n",
        "        model.fc = nn.Sequential(nn.Linear(in_features, num_classes), nn.Sigmoid())\n",
        "\n",
        "    elif name == 'densenet':\n",
        "        from torchvision.models import densenet121, DenseNet121_Weights\n",
        "        model = densenet121(weights=DenseNet121_Weights.DEFAULT)\n",
        "        in_features = model.classifier.in_features\n",
        "        model.classifier = nn.Sequential(nn.Linear(in_features, num_classes), nn.Sigmoid())\n",
        "\n",
        "    elif name == 'vgg':\n",
        "        from torchvision.models import vgg16, VGG16_Weights\n",
        "        model = vgg16(weights=VGG16_Weights.DEFAULT)\n",
        "        in_features = model.classifier[6].in_features\n",
        "        model.classifier[6] = nn.Sequential(nn.Linear(in_features, num_classes), nn.Sigmoid())\n",
        "\n",
        "    # Congelar todas las capas excepto la cabeza (fc)\n",
        "    for param in model.parameters():\n",
        "        param.requires_grad = False\n",
        "\n",
        "    # Solo entrenar la cabeza\n",
        "    if name == 'resnet':\n",
        "        for param in model.fc.parameters():\n",
        "            param.requires_grad = True\n",
        "    elif name == 'densenet':\n",
        "        for param in model.classifier.parameters():\n",
        "            param.requires_grad = True\n",
        "    elif name == 'vgg':\n",
        "        for param in model.classifier[6].parameters():\n",
        "            param.requires_grad = True\n",
        "\n",
        "    return model"
      ]
    },
    {
      "cell_type": "code",
      "execution_count": 10,
      "id": "bd8e9e30",
      "metadata": {
        "id": "bd8e9e30"
      },
      "outputs": [],
      "source": [
        "def evaluate(model, loader):\n",
        "    model.eval()\n",
        "    y_true, y_pred = [], []\n",
        "    with torch.no_grad():\n",
        "        for imgs, labels in loader:\n",
        "            labels = labels.float().reshape(-1, 1)\n",
        "            outputs = model(imgs)\n",
        "            y_true.extend(labels.numpy())\n",
        "            y_pred.extend(outputs.numpy())\n",
        "    y_true = np.array(y_true)\n",
        "    y_pred = np.array(y_pred)\n",
        "    y_pred_class = (y_pred > 0.5).astype(int)\n",
        "    acc = accuracy_score(y_true, y_pred_class)\n",
        "    return acc\n",
        "\n",
        "def train_and_evaluate(model, name, epochs=5):\n",
        "    criterion = nn.BCELoss()\n",
        "    optimizer = torch.optim.Adam(filter(lambda p: p.requires_grad, model.parameters()), lr=1e-3)\n",
        "\n",
        "    best_val_acc = 0\n",
        "    best_state = None\n",
        "\n",
        "    for epoch in range(epochs):\n",
        "        model.train()\n",
        "        total_loss, correct, total = 0, 0, 0\n",
        "        for imgs, labels in train_loader:\n",
        "            labels = labels.float().reshape(-1, 1)\n",
        "            outputs = model(imgs)\n",
        "            loss = criterion(outputs, labels)\n",
        "            optimizer.zero_grad()\n",
        "            loss.backward()\n",
        "            optimizer.step()\n",
        "            total_loss += loss.item()\n",
        "            preds = (outputs > 0.5).float()\n",
        "            correct += (preds == labels).sum().item()\n",
        "            total += labels.size(0)\n",
        "        train_acc = correct / total\n",
        "\n",
        "        val_acc = evaluate(model, val_loader)\n",
        "        print(f\"[{name}] Epoch {epoch+1}: Loss={total_loss:.4f}, Train Acc={train_acc:.4f}, Val Acc={val_acc:.4f}\")\n",
        "\n",
        "        # Guardar el mejor modelo según validación\n",
        "        if val_acc > best_val_acc:\n",
        "            best_val_acc = val_acc\n",
        "            best_state = model.state_dict()\n",
        "\n",
        "    # Restaurar el mejor modelo\n",
        "    if best_state is not None:\n",
        "        model.load_state_dict(best_state)\n",
        "\n",
        "    # Evaluación final en test\n",
        "    model.eval()\n",
        "    y_true, y_pred = [], []\n",
        "    with torch.no_grad():\n",
        "        for imgs, labels in test_loader:\n",
        "            labels = labels.float().reshape(-1, 1)\n",
        "            outputs = model(imgs)\n",
        "            y_true.extend(labels.numpy())\n",
        "            y_pred.extend(outputs.numpy())\n",
        "    y_true = np.array(y_true)\n",
        "    y_pred = np.array(y_pred)\n",
        "    y_pred_class = (y_pred > 0.5).astype(int)\n",
        "\n",
        "    acc = accuracy_score(y_true, y_pred_class)\n",
        "    f1 = f1_score(y_true, y_pred_class)\n",
        "    prec = precision_score(y_true, y_pred_class)\n",
        "    rec = recall_score(y_true, y_pred_class)\n",
        "    roc_auc = roc_auc_score(y_true, y_pred)\n",
        "\n",
        "    print(f\"\\n{name.upper()} Results (Best Val Acc: {best_val_acc:.4f}):\")\n",
        "    print(f\"Test Accuracy:  {acc:.4f}\")\n",
        "    print(f\"F1 Score:      {f1:.4f}\")\n",
        "    print(f\"Precision:     {prec:.4f}\")\n",
        "    print(f\"Recall:        {rec:.4f}\")\n",
        "    print(f\"AUC-ROC:       {roc_auc:.4f}\")"
      ]
    },
    {
      "cell_type": "code",
      "execution_count": 11,
      "id": "2f8aab5e",
      "metadata": {
        "colab": {
          "base_uri": "https://localhost:8080/",
          "height": 1000
        },
        "id": "2f8aab5e",
        "outputId": "a98c317a-ef48-4662-d62e-b4139d7f34c9"
      },
      "outputs": [
        {
          "name": "stdout",
          "output_type": "stream",
          "text": [
            "\n",
            "Entrenando modelo: RESNET\n",
            "[resnet] Epoch 1: Loss=10.2483, Train Acc=0.7198, Val Acc=0.7308\n",
            "[resnet] Epoch 2: Loss=10.0558, Train Acc=0.7344, Val Acc=0.7051\n",
            "[resnet] Epoch 3: Loss=9.1579, Train Acc=0.7527, Val Acc=0.7436\n",
            "[resnet] Epoch 4: Loss=8.8068, Train Acc=0.7509, Val Acc=0.7308\n",
            "[resnet] Epoch 5: Loss=8.7060, Train Acc=0.7473, Val Acc=0.7179\n",
            "\n",
            "RESNET Results (Best Val Acc: 0.7436):\n",
            "Test Accuracy:  0.7436\n",
            "F1 Score:      0.8214\n",
            "Precision:     0.8364\n",
            "Recall:        0.8070\n",
            "AUC-ROC:       0.7464\n",
            "\n",
            "Entrenando modelo: DENSENET\n",
            "[densenet] Epoch 1: Loss=10.6142, Train Acc=0.7344, Val Acc=0.7308\n",
            "[densenet] Epoch 2: Loss=9.8843, Train Acc=0.7344, Val Acc=0.7179\n",
            "[densenet] Epoch 3: Loss=9.2333, Train Acc=0.7363, Val Acc=0.7308\n",
            "[densenet] Epoch 4: Loss=9.1881, Train Acc=0.7436, Val Acc=0.7436\n",
            "[densenet] Epoch 5: Loss=9.4580, Train Acc=0.7674, Val Acc=0.8205\n",
            "\n",
            "DENSENET Results (Best Val Acc: 0.8205):\n",
            "Test Accuracy:  0.7885\n",
            "F1 Score:      0.8696\n",
            "Precision:     0.7914\n",
            "Recall:        0.9649\n",
            "AUC-ROC:       0.8296\n",
            "\n",
            "Entrenando modelo: VGG\n",
            "[vgg] Epoch 1: Loss=11.1069, Train Acc=0.7216, Val Acc=0.7436\n",
            "[vgg] Epoch 2: Loss=9.4442, Train Acc=0.7418, Val Acc=0.7308\n",
            "[vgg] Epoch 3: Loss=9.4048, Train Acc=0.7454, Val Acc=0.7564\n",
            "[vgg] Epoch 4: Loss=9.0226, Train Acc=0.7656, Val Acc=0.7821\n",
            "[vgg] Epoch 5: Loss=8.6773, Train Acc=0.7821, Val Acc=0.7692\n",
            "\n",
            "VGG Results (Best Val Acc: 0.7821):\n",
            "Test Accuracy:  0.7885\n",
            "F1 Score:      0.8716\n",
            "Precision:     0.7832\n",
            "Recall:        0.9825\n",
            "AUC-ROC:       0.7655\n"
          ]
        }
      ],
      "source": [
        "for name in ['resnet', 'densenet', 'vgg']:\n",
        "    print(f\"\\nEntrenando modelo: {name.upper()}\")\n",
        "    model = get_model(name)\n",
        "    train_and_evaluate(model, name, epochs=5)\n",
        "    # Guardar los modelos entrenados\n",
        "    torch.save(model.state_dict(), f'{name}_model.pth')"
      ]
    }
  ],
  "metadata": {
    "accelerator": "GPU",
    "colab": {
      "gpuType": "T4",
      "provenance": []
    },
    "kernelspec": {
      "display_name": "Python 3",
      "name": "python3"
    },
    "language_info": {
      "codemirror_mode": {
        "name": "ipython",
        "version": 3
      },
      "file_extension": ".py",
      "mimetype": "text/x-python",
      "name": "python",
      "nbconvert_exporter": "python",
      "pygments_lexer": "ipython3",
      "version": "3.12.5"
    }
  },
  "nbformat": 4,
  "nbformat_minor": 5
}
